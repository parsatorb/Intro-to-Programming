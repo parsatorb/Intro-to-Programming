{
 "cells": [
  {
   "cell_type": "markdown",
   "metadata": {},
   "source": [
    "*In progress*\n",
    "<a id=\"top\"></a>\n",
    "# Introduction to Programming - Python\n",
    "\n",
    "This course will teach you the basics of programming for complete novices. It is a practical course covering the basics of programming and will hopefully help you \"think like a programmer\". The intended audience is:\n",
    "* First time programmers\n",
    "* Non-programmers from other fields who wish to equipt themselves with coding skills\n",
    "* High school students planning on competing in programming competitions\n",
    "\n",
    "It should be noted that we will be using and teaching Python. Python is a programming language that is very easy to understand and is used widely in the scientific community as well as generally by programmers. It is a \"high-level language\" which means it does a lot of stuff under the hood to make it easy for you to write programs. Other programming languages, like C or Assembly, don't automate as much of the work for you making it typically harder to learn \"lower-level\" languages. Higher and lower levels of language do not refer to value or usefulness - simply how \"close it is to the metal\" or the actual hardware instructions that run on a computer chip. Here, \"lower\" means closer to the chip.\n",
    "<br><br>\n",
    "It should be noted that the difficulty of learning a language does not mean its more useful. In fact, it is often the case that easier to learn languages dominate the programming scene. However, if you plan on pursuing studies in computer science or a career in software development, it is important to know that Python hides a lot of important concepts from the programmer. You won't be exposed to concepts like compiling and memory management, and the almost total lack of \"syntactical fluff\" will make transitions to other standard languages like Java and C++ more difficult. If you reckon you're up for it, I would recommend starting the Java/C++ tutorial in parallel with this one.\n",
    "<br><br>\n",
    "### Course Outline\n",
    "* <a href=\"#calc\">Calculator Operations</a>\n",
    "    * Errors\n",
    "* <a href=\"#variables\">Variables</a>\n",
    "* Variable types\n",
    "* Boolean Expressions\n",
    "* If Statements\n",
    "* Loops\n",
    "* Arrays\n",
    "* Functions\n",
    "    * Pass by Reference/Value\n",
    "    * Namespaces/Closure\n",
    "* Tuples\n",
    "* Objects"
   ]
  },
  {
   "cell_type": "markdown",
   "metadata": {},
   "source": [
    "<a id=\"calc\"></a>\n",
    "## Calculator Operations\n",
    "Most programming languages can act like a basic calculator. You can run most commands like addition (+), subtraction (-), multiplication (*), and divison(/) exactly as you'd expect. To see the output of an expression use the `print` function"
   ]
  },
  {
   "cell_type": "code",
   "execution_count": 5,
   "metadata": {},
   "outputs": [
    {
     "name": "stdout",
     "output_type": "stream",
     "text": [
      "3\n",
      "10\n",
      "6.666666666666667\n",
      "10\n",
      "9\n"
     ]
    }
   ],
   "source": [
    "#Addition\n",
    "print(1 + 1 + 1)\n",
    "\n",
    "#Multiplication\n",
    "print(2 * 5)\n",
    "\n",
    "#Division\n",
    "print(20/3)\n",
    "\n",
    "#Subtraction\n",
    "print(15 - 5)\n",
    "\n",
    "#Exponentiation\n",
    "print(3**2)"
   ]
  },
  {
   "cell_type": "markdown",
   "metadata": {},
   "source": [
    "Let's see what happens when we divide by zero"
   ]
  },
  {
   "cell_type": "code",
   "execution_count": 7,
   "metadata": {},
   "outputs": [
    {
     "ename": "ZeroDivisionError",
     "evalue": "division by zero",
     "output_type": "error",
     "traceback": [
      "\u001b[0;31m---------------------------------------------------------------------------\u001b[0m",
      "\u001b[0;31mZeroDivisionError\u001b[0m                         Traceback (most recent call last)",
      "\u001b[0;32m<ipython-input-7-86210e37274a>\u001b[0m in \u001b[0;36m<module>\u001b[0;34m\u001b[0m\n\u001b[0;32m----> 1\u001b[0;31m \u001b[0mprint\u001b[0m\u001b[0;34m(\u001b[0m\u001b[0;36m55\u001b[0m\u001b[0;34m/\u001b[0m\u001b[0;36m0\u001b[0m\u001b[0;34m)\u001b[0m\u001b[0;34m\u001b[0m\u001b[0;34m\u001b[0m\u001b[0m\n\u001b[0m",
      "\u001b[0;31mZeroDivisionError\u001b[0m: division by zero"
     ]
    }
   ],
   "source": [
    "print(55/0)"
   ]
  },
  {
   "cell_type": "markdown",
   "metadata": {},
   "source": [
    "### Errors\n",
    "In normal mathematics, we typically do not allow dividing by zero (we call the result \"undefined\"). Thus too in programming, if you try to do something with an undefined behaviour, you get an error. Errors come in many different shapes and forms, and are a sign that something is wrong with your code (although your code may be problematic even if it doesn't explicitly result in an error). When you come across a problem in your code, the term used for fixing it is <b>debugging</b>. In this case, we have come across a `ZeroDivisionError` error. In this relatively simple example, our single line program is easy to debug - we know exactly where the problem is. In bigger, more complex programs we won't be able to tell where the problem is just by looking at the error message. This is where the <b>Stack trace</b> comes in. It helps us track down (trace) where the problematic piece of code is. (Don't worry about where the 'stack' in 'stack trace' comes from, we'll get there soon enough)."
   ]
  },
  {
   "cell_type": "markdown",
   "metadata": {},
   "source": [
    "<a id=\"variables\"></a>\n",
    "## Variables\n",
    "So far, we've been hard coding values into our code. "
   ]
  },
  {
   "cell_type": "code",
   "execution_count": null,
   "metadata": {},
   "outputs": [],
   "source": [
    "S"
   ]
  },
  {
   "cell_type": "markdown",
   "metadata": {},
   "source": [
    "<a href=\"#top\">Back to Top</a>"
   ]
  }
 ],
 "metadata": {
  "kernelspec": {
   "display_name": "Python 3",
   "language": "python",
   "name": "python3"
  },
  "language_info": {
   "codemirror_mode": {
    "name": "ipython",
    "version": 3
   },
   "file_extension": ".py",
   "mimetype": "text/x-python",
   "name": "python",
   "nbconvert_exporter": "python",
   "pygments_lexer": "ipython3",
   "version": "3.7.3"
  }
 },
 "nbformat": 4,
 "nbformat_minor": 2
}
